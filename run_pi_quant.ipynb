{
  "nbformat": 4,
  "nbformat_minor": 0,
  "metadata": {
    "colab": {
      "name": "run-pi_quant.ipynb",
      "provenance": []
    },
    "kernelspec": {
      "name": "python3",
      "display_name": "Python 3"
    }
  },
  "cells": [
    {
      "cell_type": "code",
      "metadata": {
        "id": "rnI-DRkOLsqV",
        "colab_type": "code",
        "colab": {}
      },
      "source": [
        "from tensorflow.lite.python.interpreter import Interpreter\n",
        "import numpy as np\n",
        "import argparse\n",
        "import os\n",
        "import cv2\n",
        "\n",
        "parser = argparse.ArgumentParser(description='Image Classification')\n",
        "parser.add_argument('--model_path', type=str, help='Specify the model path', required=True)\n",
        "parser.add_argument('--label_path', type=str, help='Specify the label map', required=True)\n",
        "parser.add_argument('--top_k', type=int, help='How many top results', default=2)\n",
        "\n",
        "args = parser.parse_args()\n",
        "\n",
        "model_path = args.model_path \n",
        "label_path = args.label_path \n",
        "top_k_results = args.top_k\n",
        "\n",
        "with open(label_path, 'r') as f:\n",
        "    labels = list(map(str.strip, f.readlines()))\n"
      ],
      "execution_count": 0,
      "outputs": []
    },
    {
      "cell_type": "code",
      "metadata": {
        "id": "_98I4RjTMKcR",
        "colab_type": "code",
        "colab": {}
      },
      "source": [
        "interpreter = Interpreter(model_path=model_path)\n",
        "interpreter.allocate_tensors()\n",
        "input_details = interpreter.get_input_details()\n",
        "output_details = interpreter.get_output_details()\n",
        "\n",
        "input_shape = input_details[0]['shape']\n",
        "size = input_shape[:2] if len(input_shape) == 3 else input_shape[1:3]\n",
        "\n",
        "# Read image\n",
        "IMAGE_NAME = 'person.png'\n",
        "#IMAGE_NAME = 'no_person.png'\n",
        "CWD_PATH = os.getcwd()\n",
        "PATH_TO_IMAGE = os.path.join(CWD_PATH,IMAGE_NAME)\n",
        "img = cv2.imread(PATH_TO_IMAGE)\n",
        "image_resized = cv2.resize(img, (224, 224))\n",
        "img = np.array(image_resized)\n",
        "input_data = np.expand_dims(img, axis=0)\n",
        "\n",
        "# Point the data to be used for testing and run the interpreter\n",
        "interpreter.set_tensor(input_details[0]['index'], input_data)\n",
        "interpreter.invoke()\n",
        "\n",
        "# Obtain results and map them to the classes\n",
        "predictions = interpreter.get_tensor(output_details[0]['index'])[0]\n",
        "print(predictions)\n",
        "# Get indices of the top k results\n",
        "top_k_indices = np.argsort(predictions)[::-1][:top_k_results]\n",
        "\n",
        "for i in range(top_k_results):\n",
        "    print(labels[top_k_indices[i]], predictions[top_k_indices[i]] / 255.0)"
      ],
      "execution_count": 0,
      "outputs": []
    }
  ]
}